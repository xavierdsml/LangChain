{
  "nbformat": 4,
  "nbformat_minor": 0,
  "metadata": {
    "colab": {
      "provenance": []
    },
    "kernelspec": {
      "name": "python3",
      "display_name": "Python 3"
    },
    "language_info": {
      "name": "python"
    }
  },
  "cells": [
    {
      "cell_type": "markdown",
      "source": [
        "# Component"
      ],
      "metadata": {
        "id": "xyBcBXA_ETCM"
      }
    },
    {
      "cell_type": "markdown",
      "source": [
        "### LLM"
      ],
      "metadata": {
        "id": "WBNaU9UgJOsw"
      }
    },
    {
      "cell_type": "code",
      "execution_count": 21,
      "metadata": {
        "id": "IYDZFSmPD9nF"
      },
      "outputs": [],
      "source": [
        "import random\n",
        "\n",
        "class NakliLLM:\n",
        "  def __init__(self):\n",
        "    print('LLM Createad !!')\n",
        "\n",
        "  def predict(self, prompt):\n",
        "    response_list = [\n",
        "      'Delhi is the capital of India',\n",
        "      'IPL is Indian Cricket League',\n",
        "      'This is Runnble Demo LLM'\n",
        "    ]\n",
        "\n",
        "    return {'response': random.choice(response_list)}"
      ]
    },
    {
      "cell_type": "markdown",
      "source": [
        "### Prompt Template"
      ],
      "metadata": {
        "id": "1P6ddak5JV19"
      }
    },
    {
      "cell_type": "code",
      "source": [
        "class NakliPromptTemplate:\n",
        "  def __init__(self, template, input_variables):\n",
        "    self.template = template\n",
        "    self.input_variables = input_variables\n",
        "\n",
        "  def format(self, input_dict):\n",
        "    return self.template.format(**input_dict)\n"
      ],
      "metadata": {
        "id": "ikBcDq-BEQ5j"
      },
      "execution_count": 22,
      "outputs": []
    },
    {
      "cell_type": "markdown",
      "source": [
        "Template"
      ],
      "metadata": {
        "id": "aGCyDdVEHctq"
      }
    },
    {
      "cell_type": "code",
      "source": [
        "template = NakliPromptTemplate(\n",
        "    template='Write a {length} poem about {topic}',\n",
        "    input_variables=['length', 'topic']\n",
        ")"
      ],
      "metadata": {
        "id": "WLseWAvIF_oz"
      },
      "execution_count": 23,
      "outputs": []
    },
    {
      "cell_type": "code",
      "source": [
        "prompt = template.format({'length':'short', 'topic':'cricket'})"
      ],
      "metadata": {
        "id": "80GVzl3nGfDO"
      },
      "execution_count": 24,
      "outputs": []
    },
    {
      "cell_type": "code",
      "source": [
        "llm = NakliLLM()"
      ],
      "metadata": {
        "colab": {
          "base_uri": "https://localhost:8080/"
        },
        "id": "9oQcdYejIDhZ",
        "outputId": "fd48db57-0a12-4d84-f76b-7caa2c74ad01"
      },
      "execution_count": 25,
      "outputs": [
        {
          "output_type": "stream",
          "name": "stdout",
          "text": [
            "LLM Createad !!\n"
          ]
        }
      ]
    },
    {
      "cell_type": "code",
      "source": [
        "llm.predict(prompt)"
      ],
      "metadata": {
        "colab": {
          "base_uri": "https://localhost:8080/"
        },
        "id": "w48jjN8GI-P_",
        "outputId": "ec062dd9-c840-4f89-ed2c-9eda5ddd8cfb"
      },
      "execution_count": 26,
      "outputs": [
        {
          "output_type": "execute_result",
          "data": {
            "text/plain": [
              "{'response': 'This is Runnble Demo LLM'}"
            ]
          },
          "metadata": {},
          "execution_count": 26
        }
      ]
    },
    {
      "cell_type": "markdown",
      "source": [
        "# connect the component"
      ],
      "metadata": {
        "id": "7gjmtcLHH3dp"
      }
    },
    {
      "cell_type": "code",
      "source": [
        "class NakliLLMChain:\n",
        "  def __init__(self, llm, prompt):\n",
        "    self.llm = llm\n",
        "    self.prompt = prompt\n",
        "\n",
        "  def run(self, input_dict):\n",
        "      final_prompt = self.prompt.format(input_dict)\n",
        "      result = self.llm.predict(final_prompt)\n",
        "\n",
        "      return result['response']"
      ],
      "metadata": {
        "id": "FyfzMO6oH1U3"
      },
      "execution_count": 38,
      "outputs": []
    },
    {
      "cell_type": "code",
      "source": [
        "template = NakliPromptTemplate(\n",
        "    template='Write a {length} poem about {topic}',\n",
        "    input_variables=['length', 'topic']\n",
        ")"
      ],
      "metadata": {
        "id": "SP6QRhuPLI1A"
      },
      "execution_count": 36,
      "outputs": []
    },
    {
      "cell_type": "code",
      "source": [
        "llm = NakliLLM()"
      ],
      "metadata": {
        "colab": {
          "base_uri": "https://localhost:8080/"
        },
        "id": "_lJe7THqLNic",
        "outputId": "afe1c1a9-a800-4b48-f71a-cd8e48539642"
      },
      "execution_count": 29,
      "outputs": [
        {
          "output_type": "stream",
          "name": "stdout",
          "text": [
            "LLM Createad !!\n"
          ]
        }
      ]
    },
    {
      "cell_type": "code",
      "source": [
        "chain = NakliLLMChain(llm, template)\n",
        "chain.run({'length':'short', 'topic':'india'})"
      ],
      "metadata": {
        "colab": {
          "base_uri": "https://localhost:8080/",
          "height": 36
        },
        "id": "YNftucnGLQIh",
        "outputId": "4a97fbe0-4ef9-4fbd-d709-de13ec463178"
      },
      "execution_count": 39,
      "outputs": [
        {
          "output_type": "execute_result",
          "data": {
            "text/plain": [
              "'IPL is Indian Cricket League'"
            ],
            "application/vnd.google.colaboratory.intrinsic+json": {
              "type": "string"
            }
          },
          "metadata": {},
          "execution_count": 39
        }
      ]
    }
  ]
}
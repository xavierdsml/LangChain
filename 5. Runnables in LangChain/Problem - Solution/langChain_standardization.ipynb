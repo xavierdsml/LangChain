{
  "nbformat": 4,
  "nbformat_minor": 0,
  "metadata": {
    "colab": {
      "provenance": []
    },
    "kernelspec": {
      "name": "python3",
      "display_name": "Python 3"
    },
    "language_info": {
      "name": "python"
    }
  },
  "cells": [
    {
      "cell_type": "markdown",
      "source": [
        "Firstly , we should transform these different component in Runnables.\n",
        "\n",
        "Secondly , we make sure that each Runnable's have the COMMON METHOD.\n",
        "\n",
        "How we make sure that each components have same methods - OOPS (abstraction)"
      ],
      "metadata": {
        "id": "kTepHrIpQhgp"
      }
    },
    {
      "cell_type": "code",
      "source": [
        "from abc import ABC, abstractmethod"
      ],
      "metadata": {
        "id": "Xq5KkKzIygNP"
      },
      "execution_count": 1,
      "outputs": []
    },
    {
      "cell_type": "code",
      "source": [
        "class Runnable(ABC):\n",
        "\n",
        "  @abstractmethod\n",
        "  def invoke(input_data):\n",
        "    pass"
      ],
      "metadata": {
        "id": "MCiKD4eEygKx"
      },
      "execution_count": 2,
      "outputs": []
    },
    {
      "cell_type": "markdown",
      "source": [
        "Just add RUNNABLE Parent child"
      ],
      "metadata": {
        "id": "LNIlGuwv0ws3"
      }
    },
    {
      "cell_type": "code",
      "source": [
        "import random\n",
        "\n",
        "class NakliLLM(Runnable):\n",
        "  def __init__(self):\n",
        "    print('LLM Createad !!')\n",
        "\n",
        "  def invoke(self, prompt):\n",
        "    response_list = [\n",
        "      'Delhi is the capital of India',\n",
        "      'IPL is Indian Cricket League',\n",
        "      'This is Runnble Demo LLM'\n",
        "    ]\n",
        "\n",
        "    return {'response': random.choice(response_list)}\n",
        "\n",
        "  def predict(self, prompt):\n",
        "    response_list = [\n",
        "      'Delhi is the capital of India',\n",
        "      'IPL is Indian Cricket League',\n",
        "      'This is Runnble Demo LLM'\n",
        "    ]\n",
        "\n",
        "    return {'response': random.choice(response_list)}"
      ],
      "metadata": {
        "id": "PivS7avzygFJ"
      },
      "execution_count": 3,
      "outputs": []
    },
    {
      "cell_type": "code",
      "source": [
        "class NakliPromptTemplate(Runnable):\n",
        "  def __init__(self, template, input_variables):\n",
        "    self.template = template\n",
        "    self.input_variables = input_variables\n",
        "\n",
        "  def invoke(self, input_dict):\n",
        "    return self.template.format(**input_dict)\n",
        "\n",
        "  def format(self, input_dict):\n",
        "    return self.template.format(**input_dict)"
      ],
      "metadata": {
        "id": "1pzpbvqhRivu"
      },
      "execution_count": 4,
      "outputs": []
    },
    {
      "cell_type": "markdown",
      "source": [
        "Now both are Standardised..."
      ],
      "metadata": {
        "id": "iXPUOjYK1Vw6"
      }
    },
    {
      "cell_type": "code",
      "source": [
        "class RunnableConstructor(Runnable):\n",
        "  def __init__(self, runnable_list):\n",
        "    self.runnable_list = runnable_list\n",
        "\n",
        "  def invoke(self, input_data):\n",
        "    for runnable in self.runnable_list:\n",
        "      input_data = runnable.invoke(input_data) # chains formed\n",
        "\n",
        "      return input_data"
      ],
      "metadata": {
        "id": "vcm0mmLU1HLj"
      },
      "execution_count": 5,
      "outputs": []
    },
    {
      "cell_type": "markdown",
      "source": [
        "Chains"
      ],
      "metadata": {
        "id": "3hQrD_LK2oWa"
      }
    },
    {
      "cell_type": "code",
      "source": [
        "template = NakliPromptTemplate(\n",
        "    template='Write a {length} poem about {topic}',\n",
        "    input_variables=['length','topic']\n",
        ")"
      ],
      "metadata": {
        "id": "sJW8mNG92RZn"
      },
      "execution_count": 6,
      "outputs": []
    },
    {
      "cell_type": "code",
      "source": [
        "llm = NakliLLM()"
      ],
      "metadata": {
        "colab": {
          "base_uri": "https://localhost:8080/"
        },
        "id": "CGTKHp0_2_ns",
        "outputId": "255fece5-73fc-4e23-9bb7-ce35d484ae58"
      },
      "execution_count": 7,
      "outputs": [
        {
          "output_type": "stream",
          "name": "stdout",
          "text": [
            "LLM Createad !!\n"
          ]
        }
      ]
    },
    {
      "cell_type": "code",
      "source": [
        "chain = RunnableConstructor([template, llm])\n",
        "chain.invoke({'length':'short', 'topic':'Machine Learning'})"
      ],
      "metadata": {
        "colab": {
          "base_uri": "https://localhost:8080/",
          "height": 36
        },
        "id": "MllTClT13CBN",
        "outputId": "c4e9ad3c-c5f3-4db9-acfd-c9cdde8fad2f"
      },
      "execution_count": 8,
      "outputs": [
        {
          "output_type": "execute_result",
          "data": {
            "text/plain": [
              "'Write a short poem about Machine Learning'"
            ],
            "application/vnd.google.colaboratory.intrinsic+json": {
              "type": "string"
            }
          },
          "metadata": {},
          "execution_count": 8
        }
      ]
    }
  ]
}